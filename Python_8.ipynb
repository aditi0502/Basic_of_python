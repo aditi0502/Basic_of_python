{
  "nbformat": 4,
  "nbformat_minor": 0,
  "metadata": {
    "colab": {
      "name": "Python 8.ipynb",
      "provenance": [],
      "collapsed_sections": [],
      "authorship_tag": "ABX9TyMR2FMNOXqQGLxH5e/2O+Jw",
      "include_colab_link": true
    },
    "kernelspec": {
      "name": "python3",
      "display_name": "Python 3"
    },
    "language_info": {
      "name": "python"
    }
  },
  "cells": [
    {
      "cell_type": "markdown",
      "metadata": {
        "id": "view-in-github",
        "colab_type": "text"
      },
      "source": [
        "<a href=\"https://colab.research.google.com/github/aditi0502/Basic_of_python/blob/main/Python_8.ipynb\" target=\"_parent\"><img src=\"https://colab.research.google.com/assets/colab-badge.svg\" alt=\"Open In Colab\"/></a>"
      ]
    },
    {
      "cell_type": "markdown",
      "source": [
        "Name - \"Aditi Shamkant Gatkal\"\n",
        "\n",
        "Roll No. - 9183\n",
        "\n",
        "Date - 21/04/2022"
      ],
      "metadata": {
        "id": "FgTdWGCbhGsV"
      }
    },
    {
      "cell_type": "code",
      "source": [
        "def my_function():\n",
        "  print(\"Hello We are learning Python\")\n",
        "my_function()"
      ],
      "metadata": {
        "id": "1-qdUD2jgbkH",
        "colab": {
          "base_uri": "https://localhost:8080/"
        },
        "outputId": "58825e31-deaf-4d44-91b1-7c3520dea4f0"
      },
      "execution_count": null,
      "outputs": [
        {
          "output_type": "stream",
          "name": "stdout",
          "text": [
            "Hello We are learning Python\n"
          ]
        }
      ]
    },
    {
      "cell_type": "code",
      "source": [
        "def my_function1()\n",
        "  myname = input(\"Enter Your Name \")\n",
        "  print(\"Your name is \"+ myname)\n",
        "my_function1()"
      ],
      "metadata": {
        "colab": {
          "base_uri": "https://localhost:8080/"
        },
        "id": "uazgFqyZiNxZ",
        "outputId": "04b099ab-202f-4364-b888-614b23ccd5aa"
      },
      "execution_count": null,
      "outputs": [
        {
          "output_type": "stream",
          "name": "stdout",
          "text": [
            "Enter Your Name Yogehs\n",
            "Your name is Yogehs\n"
          ]
        }
      ]
    },
    {
      "cell_type": "markdown",
      "source": [
        "Multiplication - User defined function"
      ],
      "metadata": {
        "id": "H-UcLMCHnS_L"
      }
    },
    {
      "cell_type": "code",
      "source": [
        "def multiply(a,b):\n",
        "     return a * b\n",
        "multiply(4,5)"
      ],
      "metadata": {
        "colab": {
          "base_uri": "https://localhost:8080/"
        },
        "id": "LWDFaQWikcbg",
        "outputId": "b9baa3a9-9b92-480f-ac37-8d6da90a3726"
      },
      "execution_count": null,
      "outputs": [
        {
          "output_type": "execute_result",
          "data": {
            "text/plain": [
              "20"
            ]
          },
          "metadata": {},
          "execution_count": 17
        }
      ]
    },
    {
      "cell_type": "markdown",
      "source": [
        "Multiplication (With Parameters) - User defined function"
      ],
      "metadata": {
        "id": "wlU5BBs5nWfk"
      }
    },
    {
      "cell_type": "code",
      "source": [
        "a = float(input (\"Enter first Number \"))\n",
        "b = float(input (\"Enter Second Number \"))\n",
        "def multiply(x,y):\n",
        "     return x * y\n",
        "multiply(a,b)"
      ],
      "metadata": {
        "colab": {
          "base_uri": "https://localhost:8080/"
        },
        "id": "maiIJQISlq7G",
        "outputId": "6c2bf5b5-8a59-46fe-906d-4c3510590d8e"
      },
      "execution_count": null,
      "outputs": [
        {
          "output_type": "execute_result",
          "data": {
            "text/plain": [
              "5"
            ]
          },
          "metadata": {},
          "execution_count": 21
        }
      ]
    },
    {
      "cell_type": "markdown",
      "source": [
        "Addition (With Parameters) - User defined function"
      ],
      "metadata": {
        "id": "YkMNAH-InNFs"
      }
    },
    {
      "cell_type": "code",
      "source": [
        "a = int(input (\"Enter first Number \"))\n",
        "b = int(input (\"Enter Second Number \"))\n",
        "def add(x,y):\n",
        "     return x + y\n",
        "add(a,b)"
      ],
      "metadata": {
        "colab": {
          "base_uri": "https://localhost:8080/"
        },
        "id": "TRJEzvKvnEXS",
        "outputId": "5dd0967e-3af0-4221-f6ed-a523179be0eb"
      },
      "execution_count": 23,
      "outputs": [
        {
          "name": "stdout",
          "output_type": "stream",
          "text": [
            "Enter Second Number 5\n"
          ]
        },
        {
          "output_type": "execute_result",
          "data": {
            "text/plain": [
              "50"
            ]
          },
          "metadata": {},
          "execution_count": 23
        }
      ]
    },
    {
      "cell_type": "code",
      "source": [
        "a = float(input (\"Enter first Number \"))\n",
        "b = float(input (\"Enter Second Number \"))\n",
        "def power(x,y):\n",
        "     return x**y\n",
        "power(a,b)"
      ],
      "metadata": {
        "id": "QveysFctn8V8"
      },
      "execution_count": null,
      "outputs": []
    }
  ]
}