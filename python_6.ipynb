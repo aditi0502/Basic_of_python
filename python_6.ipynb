{
  "nbformat": 4,
  "nbformat_minor": 0,
  "metadata": {
    "colab": {
      "name": "python 6",
      "provenance": [],
      "collapsed_sections": [],
      "authorship_tag": "ABX9TyMoHP5+mAPuGzILgoz8S51Q",
      "include_colab_link": true
    },
    "kernelspec": {
      "name": "python3",
      "display_name": "Python 3"
    },
    "language_info": {
      "name": "python"
    }
  },
  "cells": [
    {
      "cell_type": "markdown",
      "metadata": {
        "id": "view-in-github",
        "colab_type": "text"
      },
      "source": [
        "<a href=\"https://colab.research.google.com/github/aditi0502/Basic_of_python/blob/main/python_6.ipynb\" target=\"_parent\"><img src=\"https://colab.research.google.com/assets/colab-badge.svg\" alt=\"Open In Colab\"/></a>"
      ]
    },
    {
      "cell_type": "markdown",
      "source": [
        "if condition"
      ],
      "metadata": {
        "id": "JuEopauzc0_Y"
      }
    },
    {
      "cell_type": "code",
      "source": [
        "a=33\n",
        "b=20\n",
        "if b<a:\n",
        "  print(\"b is less than a\")"
      ],
      "metadata": {
        "colab": {
          "base_uri": "https://localhost:8080/"
        },
        "id": "nLajJMqIc3EN",
        "outputId": "24ef871e-16c2-4ba7-c038-6be172bf6592"
      },
      "execution_count": null,
      "outputs": [
        {
          "output_type": "stream",
          "name": "stdout",
          "text": [
            "b is less than a\n"
          ]
        }
      ]
    },
    {
      "cell_type": "code",
      "source": [
        "a=68\n",
        "b=25\n",
        "if a>b:\n",
        "  print(\"a is greater than b\")"
      ],
      "metadata": {
        "colab": {
          "base_uri": "https://localhost:8080/"
        },
        "id": "O_ko0SU1dGLq",
        "outputId": "3e086b5a-1529-4e12-9c1b-79f31c6412d0"
      },
      "execution_count": null,
      "outputs": [
        {
          "output_type": "stream",
          "name": "stdout",
          "text": [
            "a is greater than b\n"
          ]
        }
      ]
    },
    {
      "cell_type": "code",
      "source": [
        "a=6\n",
        "b=6\n",
        "if a>=b:\n",
        "  print(\"a is greater than or equal to b\")"
      ],
      "metadata": {
        "colab": {
          "base_uri": "https://localhost:8080/"
        },
        "id": "D3zotIsidUvS",
        "outputId": "2b268f07-83da-4e13-8d40-5be05f3cf818"
      },
      "execution_count": null,
      "outputs": [
        {
          "output_type": "stream",
          "name": "stdout",
          "text": [
            "a is greater than or equal to b\n"
          ]
        }
      ]
    },
    {
      "cell_type": "code",
      "source": [
        "if a<b:\n",
        "  print(\"abc\")\n",
        "print(123)\n"
      ],
      "metadata": {
        "colab": {
          "base_uri": "https://localhost:8080/"
        },
        "id": "XIduQ6YCdZ21",
        "outputId": "809208c9-1bf5-4110-b495-9336a98f67a0"
      },
      "execution_count": null,
      "outputs": [
        {
          "output_type": "stream",
          "name": "stdout",
          "text": [
            "123\n"
          ]
        }
      ]
    },
    {
      "cell_type": "markdown",
      "source": [
        "if else"
      ],
      "metadata": {
        "id": "1uZ5xX_idfOY"
      }
    },
    {
      "cell_type": "code",
      "source": [
        "n=-9\n",
        "if n>0:\n",
        "  print(\"positive\")\n",
        "else:\n",
        "  print(\"negative\")"
      ],
      "metadata": {
        "colab": {
          "base_uri": "https://localhost:8080/"
        },
        "id": "lgLY01E_dgQ6",
        "outputId": "c28c6b50-9228-4e9d-8cda-3a37bb0113a8"
      },
      "execution_count": null,
      "outputs": [
        {
          "output_type": "stream",
          "name": "stdout",
          "text": [
            "negative\n"
          ]
        }
      ]
    },
    {
      "cell_type": "code",
      "source": [
        "num=-1\n",
        "if num>0:\n",
        "  print(\"positive number\")\n",
        "elif num==0:\n",
        "  print(\"zero\")\n",
        "else:\n",
        "  print(\"negative number\")"
      ],
      "metadata": {
        "colab": {
          "base_uri": "https://localhost:8080/"
        },
        "id": "LisBCmL_d0Gz",
        "outputId": "1d599819-6170-4c58-c069-78df2e2aa54e"
      },
      "execution_count": null,
      "outputs": [
        {
          "output_type": "stream",
          "name": "stdout",
          "text": [
            "negative number\n"
          ]
        }
      ]
    },
    {
      "cell_type": "markdown",
      "source": [
        "Example"
      ],
      "metadata": {
        "id": "fC0Zr9cPeSIN"
      }
    },
    {
      "cell_type": "code",
      "source": [
        "marks=[90,80,70]\n",
        "for i in marks:\n",
        " if i==90:\n",
        "  print(\"you can take Science\")\n",
        " elif i==80:\n",
        "  print(\"you can take Commerce\")\n",
        " else: \n",
        "  print(\"you can take Arts\")"
      ],
      "metadata": {
        "colab": {
          "base_uri": "https://localhost:8080/"
        },
        "id": "5OYbAM2WeTV5",
        "outputId": "468e8080-fe23-4f0d-c86c-917f5fc0611e"
      },
      "execution_count": null,
      "outputs": [
        {
          "output_type": "stream",
          "name": "stdout",
          "text": [
            "you can take Science\n",
            "you can take Commerce\n",
            "you can take Arts\n"
          ]
        }
      ]
    },
    {
      "cell_type": "code",
      "source": [
        "marks=int(input())\n",
        "c=[90,80,70]\n",
        "for i in c:\n",
        " if i>80:\n",
        "  print(\"you can take science\")\n",
        " elif i>70:\n",
        "  print(\"you can take commerce\")\n",
        " else:\n",
        "  print(\"you can take arts\")"
      ],
      "metadata": {
        "colab": {
          "base_uri": "https://localhost:8080/"
        },
        "id": "F7bvi7-PfMLT",
        "outputId": "11872208-d38d-4ee2-f834-b309f7dba5ae"
      },
      "execution_count": null,
      "outputs": [
        {
          "output_type": "stream",
          "name": "stdout",
          "text": [
            "68\n",
            "you can take science\n",
            "you can take commerce\n",
            "you can take arts\n"
          ]
        }
      ]
    }
  ]
}