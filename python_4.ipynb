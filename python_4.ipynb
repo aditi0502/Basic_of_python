{
  "nbformat": 4,
  "nbformat_minor": 0,
  "metadata": {
    "colab": {
      "name": "python 4",
      "provenance": [],
      "collapsed_sections": [],
      "authorship_tag": "ABX9TyMv1FR2+WPSqyt8xsBYQzgo",
      "include_colab_link": true
    },
    "kernelspec": {
      "name": "python3",
      "display_name": "Python 3"
    },
    "language_info": {
      "name": "python"
    }
  },
  "cells": [
    {
      "cell_type": "markdown",
      "metadata": {
        "id": "view-in-github",
        "colab_type": "text"
      },
      "source": [
        "<a href=\"https://colab.research.google.com/github/aditi0502/Basic_of_python/blob/main/python_4.ipynb\" target=\"_parent\"><img src=\"https://colab.research.google.com/assets/colab-badge.svg\" alt=\"Open In Colab\"/></a>"
      ]
    },
    {
      "cell_type": "markdown",
      "source": [
        "Sets"
      ],
      "metadata": {
        "id": "POxBD3rGXYez"
      }
    },
    {
      "cell_type": "code",
      "source": [
        "d1={\"Name\":\"Aditi\",\"Class\":\"TY\",\"Roll No\":9183,\"Result\":\"Distinction\"}\n",
        "print(d1)\n",
        "d1[\"Result\"]"
      ],
      "metadata": {
        "colab": {
          "base_uri": "https://localhost:8080/",
          "height": 53
        },
        "id": "tIhANU8tXarh",
        "outputId": "16f2c56f-b9d0-40f9-d30d-e83f787008ad"
      },
      "execution_count": null,
      "outputs": [
        {
          "output_type": "stream",
          "name": "stdout",
          "text": [
            "{'Name': 'Aditi', 'Class': 'TY', 'Roll No': 9183, 'Result': 'Distinction'}\n"
          ]
        },
        {
          "output_type": "execute_result",
          "data": {
            "text/plain": [
              "'Distinction'"
            ],
            "application/vnd.google.colaboratory.intrinsic+json": {
              "type": "string"
            }
          },
          "metadata": {},
          "execution_count": 1
        }
      ]
    },
    {
      "cell_type": "markdown",
      "source": [
        "get()"
      ],
      "metadata": {
        "id": "8i-blmpiXqsY"
      }
    },
    {
      "cell_type": "code",
      "source": [
        "d1.get(\"Roll No\")"
      ],
      "metadata": {
        "colab": {
          "base_uri": "https://localhost:8080/"
        },
        "id": "cwG7GrYTXsVP",
        "outputId": "db1155aa-0b0d-47ec-fa3a-6c6969e52df4"
      },
      "execution_count": null,
      "outputs": [
        {
          "output_type": "execute_result",
          "data": {
            "text/plain": [
              "9183"
            ]
          },
          "metadata": {},
          "execution_count": 2
        }
      ]
    },
    {
      "cell_type": "markdown",
      "source": [
        "Change Value"
      ],
      "metadata": {
        "id": "q9fL2giAXz65"
      }
    },
    {
      "cell_type": "code",
      "source": [
        "d1[\"Class\"]=\"TyBsc\"\n",
        "print(d1)"
      ],
      "metadata": {
        "colab": {
          "base_uri": "https://localhost:8080/"
        },
        "id": "qDxGb3xXX1bl",
        "outputId": "14410d70-f658-4130-f7d4-2701f99d4abf"
      },
      "execution_count": null,
      "outputs": [
        {
          "output_type": "stream",
          "name": "stdout",
          "text": [
            "{'Name': 'Aditi', 'Class': 'TyBsc', 'Roll No': 9183, 'Result': 'Distinction'}\n"
          ]
        }
      ]
    },
    {
      "cell_type": "markdown",
      "source": [
        "Extract Keys"
      ],
      "metadata": {
        "id": "TsB1nYMoYD2f"
      }
    },
    {
      "cell_type": "code",
      "source": [
        "d1.keys()"
      ],
      "metadata": {
        "colab": {
          "base_uri": "https://localhost:8080/"
        },
        "id": "rSoiHH22YF-a",
        "outputId": "4f00e992-d4be-417c-b9b1-e93cf9f2b807"
      },
      "execution_count": null,
      "outputs": [
        {
          "output_type": "execute_result",
          "data": {
            "text/plain": [
              "dict_keys(['Name', 'Class', 'Roll No', 'Result'])"
            ]
          },
          "metadata": {},
          "execution_count": 4
        }
      ]
    },
    {
      "cell_type": "markdown",
      "source": [
        "Extract values"
      ],
      "metadata": {
        "id": "_vamvWV7YP9m"
      }
    },
    {
      "cell_type": "code",
      "source": [
        "d1.values()"
      ],
      "metadata": {
        "colab": {
          "base_uri": "https://localhost:8080/"
        },
        "id": "5rRcdPWpYR_1",
        "outputId": "b3b1575f-8e5f-4705-d92f-8d26418bc25b"
      },
      "execution_count": null,
      "outputs": [
        {
          "output_type": "execute_result",
          "data": {
            "text/plain": [
              "dict_values(['Aditi', 'TyBsc', 9183, 'Distinction'])"
            ]
          },
          "metadata": {},
          "execution_count": 5
        }
      ]
    },
    {
      "cell_type": "markdown",
      "source": [
        "Extract both keys and values"
      ],
      "metadata": {
        "id": "XkxtiBaEYXTY"
      }
    },
    {
      "cell_type": "code",
      "source": [
        "d1.items()"
      ],
      "metadata": {
        "colab": {
          "base_uri": "https://localhost:8080/"
        },
        "id": "9rYcgCwOYSFa",
        "outputId": "0565d447-749b-498a-a6b8-d7b5b4aa2df2"
      },
      "execution_count": null,
      "outputs": [
        {
          "output_type": "execute_result",
          "data": {
            "text/plain": [
              "dict_items([('Name', 'Aditi'), ('Class', 'TyBsc'), ('Roll No', 9183), ('Result', 'Distinction')])"
            ]
          },
          "metadata": {},
          "execution_count": 6
        }
      ]
    },
    {
      "cell_type": "markdown",
      "source": [
        "Nested Dictionary"
      ],
      "metadata": {
        "id": "n8Jef-72Yk1b"
      }
    },
    {
      "cell_type": "code",
      "source": [
        "mymovie={\n",
        "    \"actor1\":{\n",
        "    \"name\":\"aalia\",\n",
        "    \"year\":9185\n",
        "\n",
        "    },\n",
        "    \"actor2\":{\n",
        "    \"name\":\"Sonam\",\n",
        "    \"year\":9186 \n",
        "    }\n",
        "   \n",
        "}\n",
        "print(mymovie)"
      ],
      "metadata": {
        "colab": {
          "base_uri": "https://localhost:8080/"
        },
        "id": "jZVTocGsYnkg",
        "outputId": "df7622bd-75fb-4424-9476-dc68d5a7d502"
      },
      "execution_count": null,
      "outputs": [
        {
          "output_type": "stream",
          "name": "stdout",
          "text": [
            "{'actor1': {'name': 'aalia', 'year': 9185}, 'actor2': {'name': 'Sonam', 'year': 9186}}\n"
          ]
        }
      ]
    },
    {
      "cell_type": "code",
      "source": [
        "{\"child1.\":{\"name\":\"x\",\"year\":1}}\n",
        "{\"child2.\":{\"name\":\"y\",\"year\":2}}\n",
        "{\"child3.\":{\"name\":\"z\",\"year\":3}}\n",
        "my_family={\"c1\":\"child1.\",\"c2\":\"child2.\",\"c3\":\"child3.\"}\n",
        "print(my_family)"
      ],
      "metadata": {
        "colab": {
          "base_uri": "https://localhost:8080/"
        },
        "id": "stRV7QDeaWuW",
        "outputId": "8227462b-04f4-46a9-8db1-1ea64170bbc6"
      },
      "execution_count": null,
      "outputs": [
        {
          "output_type": "stream",
          "name": "stdout",
          "text": [
            "{'c1': 'child1.', 'c2': 'child2.', 'c3': 'child3.'}\n"
          ]
        }
      ]
    }
  ]
}