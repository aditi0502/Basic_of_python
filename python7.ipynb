{
  "nbformat": 4,
  "nbformat_minor": 0,
  "metadata": {
    "colab": {
      "name": "python7",
      "provenance": [],
      "collapsed_sections": [],
      "authorship_tag": "ABX9TyMWewAhgtMZPbs6UzuaK7Nh",
      "include_colab_link": true
    },
    "kernelspec": {
      "name": "python3",
      "display_name": "Python 3"
    },
    "language_info": {
      "name": "python"
    }
  },
  "cells": [
    {
      "cell_type": "markdown",
      "metadata": {
        "id": "view-in-github",
        "colab_type": "text"
      },
      "source": [
        "<a href=\"https://colab.research.google.com/github/aditi0502/Basic_of_python/blob/main/python7.ipynb\" target=\"_parent\"><img src=\"https://colab.research.google.com/assets/colab-badge.svg\" alt=\"Open In Colab\"/></a>"
      ]
    },
    {
      "cell_type": "code",
      "execution_count": null,
      "metadata": {
        "colab": {
          "base_uri": "https://localhost:8080/"
        },
        "id": "tymXzsxcgMT3",
        "outputId": "a776663c-b5f7-4d43-9300-8d8611497de8"
      },
      "outputs": [
        {
          "output_type": "stream",
          "name": "stdout",
          "text": [
            "['Python']\n"
          ]
        }
      ],
      "source": [
        "P=[\"Python\"]\n",
        "print(P)"
      ]
    },
    {
      "cell_type": "markdown",
      "source": [
        "Break"
      ],
      "metadata": {
        "id": "LBH-xI40gPo3"
      }
    },
    {
      "cell_type": "code",
      "source": [
        "P1=\"Python\"\n",
        "for i in P1:\n",
        "  print (i)\n",
        "  if i=='o':\n",
        "   break"
      ],
      "metadata": {
        "colab": {
          "base_uri": "https://localhost:8080/"
        },
        "id": "wk25TsYXgRKO",
        "outputId": "765c6bea-c1bc-4c4e-c6f3-06baa9d7fac9"
      },
      "execution_count": null,
      "outputs": [
        {
          "output_type": "stream",
          "name": "stdout",
          "text": [
            "P\n",
            "y\n",
            "t\n",
            "h\n",
            "o\n"
          ]
        }
      ]
    },
    {
      "cell_type": "code",
      "source": [
        "f=[\"apple\",\"mango\",\"banana\"]\n",
        "for x in f:\n",
        "  print(x)\n",
        "  if x ==\"banana\":\n",
        "   break"
      ],
      "metadata": {
        "colab": {
          "base_uri": "https://localhost:8080/"
        },
        "id": "oS-HhkmEgZfa",
        "outputId": "8254e652-77d2-4e5b-c600-fa800d7b0f12"
      },
      "execution_count": null,
      "outputs": [
        {
          "output_type": "stream",
          "name": "stdout",
          "text": [
            "apple\n",
            "mango\n",
            "banana\n"
          ]
        }
      ]
    },
    {
      "cell_type": "markdown",
      "source": [
        "continue"
      ],
      "metadata": {
        "id": "t5dYVgbmgd-9"
      }
    },
    {
      "cell_type": "code",
      "source": [
        "for i in P1:\n",
        "   if i == 't':\n",
        "    continue\n",
        "   print(i)"
      ],
      "metadata": {
        "colab": {
          "base_uri": "https://localhost:8080/"
        },
        "id": "c6YHbzi0gfjC",
        "outputId": "fc09555e-ee13-41ed-97ae-42ea968f4f4a"
      },
      "execution_count": null,
      "outputs": [
        {
          "output_type": "stream",
          "name": "stdout",
          "text": [
            "P\n",
            "y\n",
            "h\n",
            "o\n",
            "n\n"
          ]
        }
      ]
    }
  ]
}