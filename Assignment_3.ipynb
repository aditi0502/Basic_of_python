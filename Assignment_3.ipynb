{
  "nbformat": 4,
  "nbformat_minor": 0,
  "metadata": {
    "colab": {
      "name": "Assignment 3",
      "provenance": [],
      "collapsed_sections": [],
      "authorship_tag": "ABX9TyOu6eXUp/bZET2s299h8Vlc",
      "include_colab_link": true
    },
    "kernelspec": {
      "name": "python3",
      "display_name": "Python 3"
    },
    "language_info": {
      "name": "python"
    }
  },
  "cells": [
    {
      "cell_type": "markdown",
      "metadata": {
        "id": "view-in-github",
        "colab_type": "text"
      },
      "source": [
        "<a href=\"https://colab.research.google.com/github/aditi0502/Basic_of_python/blob/main/Assignment_3.ipynb\" target=\"_parent\"><img src=\"https://colab.research.google.com/assets/colab-badge.svg\" alt=\"Open In Colab\"/></a>"
      ]
    },
    {
      "cell_type": "code",
      "execution_count": null,
      "metadata": {
        "id": "5IUWDhfXF0VK"
      },
      "outputs": [],
      "source": [
        "Name=\"Aditi Shamkant Gatkal\"\n",
        "Roll_No=9183\n",
        "#Question No. 56 to 64"
      ]
    },
    {
      "cell_type": "markdown",
      "source": [
        "Q56] Write a program to calculate PMF and CDF of Poisson distribution with mean=2"
      ],
      "metadata": {
        "id": "Ayo9M1JiTFwv"
      }
    },
    {
      "cell_type": "code",
      "source": [
        "from scipy.stats import poisson"
      ],
      "metadata": {
        "id": "hjfvp9-VTGv7"
      },
      "execution_count": null,
      "outputs": []
    },
    {
      "cell_type": "code",
      "source": [
        "mu, k = 2, 5\n",
        "poisson_pmf=poisson.pmf(k=5, mu=2)\n",
        "print(poisson_pmf)\n"
      ],
      "metadata": {
        "colab": {
          "base_uri": "https://localhost:8080/"
        },
        "id": "yQm89GDUTQeH",
        "outputId": "de6a2dde-0a54-49a9-d021-110196f3128e"
      },
      "execution_count": null,
      "outputs": [
        {
          "output_type": "stream",
          "name": "stdout",
          "text": [
            "0.03608940886309672\n"
          ]
        }
      ]
    },
    {
      "cell_type": "code",
      "source": [
        "poisson_cdf=poisson.cdf(k=5, mu=2)\n",
        "print(poisson_cdf)"
      ],
      "metadata": {
        "colab": {
          "base_uri": "https://localhost:8080/"
        },
        "id": "WaSPEt_5Ts3W",
        "outputId": "50cde84f-38b1-406f-8fa3-bbe67a9d0927"
      },
      "execution_count": null,
      "outputs": [
        {
          "output_type": "stream",
          "name": "stdout",
          "text": [
            "0.9834363915193856\n"
          ]
        }
      ]
    },
    {
      "cell_type": "markdown",
      "source": [
        "Q57] Write a program to calculate PMF and CDF of Binomial distribution with parameters n=10,p=0.5"
      ],
      "metadata": {
        "id": "bRb0yX1UGTJR"
      }
    },
    {
      "cell_type": "code",
      "source": [
        "from scipy.stats import binom"
      ],
      "metadata": {
        "id": "1khXhircGjc1"
      },
      "execution_count": null,
      "outputs": []
    },
    {
      "cell_type": "markdown",
      "source": [
        ""
      ],
      "metadata": {
        "id": "KhnY6bkxF1Cr"
      }
    },
    {
      "cell_type": "code",
      "source": [
        "n, p = 10, 0.5\n",
        "k=5  #Assumed"
      ],
      "metadata": {
        "id": "AR04LoKoHBIg"
      },
      "execution_count": null,
      "outputs": []
    },
    {
      "cell_type": "code",
      "source": [
        "binom_pmf=binom.pmf(n=10, p=0.5 ,k=10)\n",
        "print(binom_pmf)\n"
      ],
      "metadata": {
        "colab": {
          "base_uri": "https://localhost:8080/"
        },
        "id": "OjUHQ4-kHVVH",
        "outputId": "78c751ad-c201-4ecd-aed7-f4988422d236"
      },
      "execution_count": null,
      "outputs": [
        {
          "output_type": "stream",
          "name": "stdout",
          "text": [
            "0.0009765625\n"
          ]
        }
      ]
    },
    {
      "cell_type": "code",
      "source": [
        "binom_cdf=binom.cdf(n=10, p=0.5 ,k=10)\n",
        "print(binom_cdf)"
      ],
      "metadata": {
        "colab": {
          "base_uri": "https://localhost:8080/"
        },
        "id": "IkXuVPBOHb_K",
        "outputId": "25e3b334-52fe-4e3c-84a0-0493f3238f93"
      },
      "execution_count": null,
      "outputs": [
        {
          "output_type": "stream",
          "name": "stdout",
          "text": [
            "1.0\n"
          ]
        }
      ]
    },
    {
      "cell_type": "markdown",
      "source": [
        "Q58] Write a program to calculate PMF and CDF of Geometric distribution with parameter p=0.5"
      ],
      "metadata": {
        "id": "UuGNAjn1HgCF"
      }
    },
    {
      "cell_type": "code",
      "source": [
        "from scipy.stats import geom"
      ],
      "metadata": {
        "id": "F4-R731kHtMe"
      },
      "execution_count": null,
      "outputs": []
    },
    {
      "cell_type": "code",
      "source": [
        "X = [1, 2, 3, 4, 5, 6, 7, 8, 9, 10]\n",
        "p = 0.5\n",
        "geom_pd = geom.pmf(X, p)"
      ],
      "metadata": {
        "id": "-vIczR1B6jpD"
      },
      "execution_count": null,
      "outputs": []
    },
    {
      "cell_type": "code",
      "source": [
        "K=5\n",
        "p=0.5\n",
        "geom_pd=geom.pmf(k, p)\n",
        "print(geom_pd)"
      ],
      "metadata": {
        "colab": {
          "base_uri": "https://localhost:8080/"
        },
        "id": "q-QnV34G7wpt",
        "outputId": "31840364-ec4a-46b7-95bd-a0b1fd1e95dd"
      },
      "execution_count": null,
      "outputs": [
        {
          "output_type": "stream",
          "name": "stdout",
          "text": [
            "0.03125\n"
          ]
        }
      ]
    },
    {
      "cell_type": "code",
      "source": [
        "K=5\n",
        "p=0.5\n",
        "geom_cdf=geom.cdf(K,p)\n",
        "print(geom_cdf)\n"
      ],
      "metadata": {
        "colab": {
          "base_uri": "https://localhost:8080/"
        },
        "id": "f0s5j6A5883B",
        "outputId": "113ab995-ea46-4f2f-db64-fa8fec8d3756"
      },
      "execution_count": null,
      "outputs": [
        {
          "output_type": "stream",
          "name": "stdout",
          "text": [
            "0.96875\n"
          ]
        }
      ]
    },
    {
      "cell_type": "markdown",
      "source": [
        "Q60 ] Write a program to find the mean, variance and coefficient of variation of n observations. \n",
        "Hence find and print the three values for the following set of observations."
      ],
      "metadata": {
        "id": "fuoLEyisVRkC"
      }
    },
    {
      "cell_type": "code",
      "source": [
        "import numpy as np"
      ],
      "metadata": {
        "id": "o1nPHjntSUzr"
      },
      "execution_count": null,
      "outputs": []
    },
    {
      "cell_type": "code",
      "source": [
        "A=[30.1, 23.5, 27.9, 13.4, 15.8, 14.9, 32.4, 35.2, 29.1, 20.1]\n",
        "#Mean\n",
        "x=np.mean(A)\n",
        "print(x)\n",
        "\n",
        "#Variance\n",
        "x1 = np.var(A)\n",
        "print(x1)\n",
        "\n",
        "#Coefficient of variation\n",
        "cv = lambda x: np.std(x, ddof=1) / np.mean(x) * 100 \n",
        "#Calculate cv\n",
        "cv(A)"
      ],
      "metadata": {
        "colab": {
          "base_uri": "https://localhost:8080/"
        },
        "id": "4sxvje8CVS0g",
        "outputId": "d0f5cd77-ce3b-4685-8863-35318381b63e"
      },
      "execution_count": null,
      "outputs": [
        {
          "output_type": "stream",
          "name": "stdout",
          "text": [
            "24.24\n",
            "55.1724\n"
          ]
        },
        {
          "output_type": "execute_result",
          "data": {
            "text/plain": [
              "32.30033806997643"
            ]
          },
          "metadata": {},
          "execution_count": 10
        }
      ]
    },
    {
      "cell_type": "markdown",
      "source": [
        "Q63 ] Write a program to arrange a set of n observations in ascending order and find the median. \n",
        "Hence arrange the following observations in ascending order and find the median."
      ],
      "metadata": {
        "id": "qzFSvMFlcLEl"
      }
    },
    {
      "cell_type": "code",
      "source": [
        "x=[26.86, 33.33, 55.82, 10.61, 51.93, 75.94, 61.67, 15.01, 49.17, 76.78]\n",
        "x.sort()\n",
        "print('List in Ascending Order: ', x)\n",
        "#Median\n",
        "X=np.median(x)\n",
        "print(X)"
      ],
      "metadata": {
        "colab": {
          "base_uri": "https://localhost:8080/"
        },
        "id": "MamwoX2ecMXS",
        "outputId": "09880e9b-b665-44b3-bdde-cf1d8120ea0d"
      },
      "execution_count": null,
      "outputs": [
        {
          "output_type": "stream",
          "name": "stdout",
          "text": [
            "List in Ascending Order:  [10.61, 15.01, 26.86, 33.33, 49.17, 51.93, 55.82, 61.67, 75.94, 76.78]\n",
            "50.55\n"
          ]
        }
      ]
    },
    {
      "cell_type": "markdown",
      "source": [
        "Q64 ] Write a program to arrange a set of n observations in ascending order and find the median. \n",
        "Hence arrange the following observations in ascending order and find the median"
      ],
      "metadata": {
        "id": "ZSLNrNGwHuC7"
      }
    },
    {
      "cell_type": "code",
      "source": [
        "x = [18.11, 95.34, 81.31, 36.66, 10.15, 71.81, 3.16, 66.73, 49.03, 79.94]\n",
        "x.sort()\n",
        "print('List in Ascending Order: ', x)\n",
        "#Median\n",
        "x1=np.median(x)\n",
        "print(x1)\n",
        "\n"
      ],
      "metadata": {
        "colab": {
          "base_uri": "https://localhost:8080/"
        },
        "id": "yBdsoaQUHuxd",
        "outputId": "698eef28-54ae-402f-dacf-ad9e6ee7b79b"
      },
      "execution_count": null,
      "outputs": [
        {
          "output_type": "stream",
          "name": "stdout",
          "text": [
            "List in Ascending Order:  [3.16, 10.15, 18.11, 36.66, 49.03, 66.73, 71.81, 79.94, 81.31, 95.34]\n",
            "57.88\n"
          ]
        }
      ]
    }
  ]
}