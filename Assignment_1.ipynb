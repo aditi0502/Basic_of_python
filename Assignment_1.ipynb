{
  "nbformat": 4,
  "nbformat_minor": 0,
  "metadata": {
    "colab": {
      "name": "Assignment_1",
      "provenance": [],
      "authorship_tag": "ABX9TyOVe0JwrrznvmNrZu5wwq12",
      "include_colab_link": true
    },
    "kernelspec": {
      "name": "python3",
      "display_name": "Python 3"
    },
    "language_info": {
      "name": "python"
    }
  },
  "cells": [
    {
      "cell_type": "markdown",
      "metadata": {
        "id": "view-in-github",
        "colab_type": "text"
      },
      "source": [
        "<a href=\"https://colab.research.google.com/github/aditi0502/Basic_of_python/blob/main/Assignment_1.ipynb\" target=\"_parent\"><img src=\"https://colab.research.google.com/assets/colab-badge.svg\" alt=\"Open In Colab\"/></a>"
      ]
    },
    {
      "cell_type": "code",
      "execution_count": 2,
      "metadata": {
        "id": "XH2LulzhP_te"
      },
      "outputs": [],
      "source": [
        "Name=\"Aditi Shamkant Gatkal\"\n",
        "Roll_No=9183"
      ]
    },
    {
      "cell_type": "markdown",
      "source": [
        "Lists\n"
      ],
      "metadata": {
        "id": "4mG9m6aWRRQp"
      }
    },
    {
      "cell_type": "code",
      "source": [
        "A=[\"Aditi\",\"Shamkant\",\"Gatkal\",20,\"Student\"]\n",
        "B=[\"SP College\",\"Autonomous\",\"Sadashiv peth\",411030]\n",
        "print(A)\n",
        "print(B)"
      ],
      "metadata": {
        "colab": {
          "base_uri": "https://localhost:8080/"
        },
        "id": "TY3um2uvQS-N",
        "outputId": "875bd639-8c55-421b-f4f9-7cdf971e2c3d"
      },
      "execution_count": 3,
      "outputs": [
        {
          "output_type": "stream",
          "name": "stdout",
          "text": [
            "['Aditi', 'Shamkant', 'Gatkal', 20, 'Student']\n",
            "['SP College', 'Autonomous', 'Sadashiv peth', 411030]\n"
          ]
        }
      ]
    },
    {
      "cell_type": "markdown",
      "source": [
        "Tupples"
      ],
      "metadata": {
        "id": "eIAq5PajRYL5"
      }
    },
    {
      "cell_type": "code",
      "source": [
        "a=(\"Aditi\",\"Shamkant\",\"Gatkal\",20,\"Student\")\n",
        "b=(\"SP College\",\"Autonomous\",\"Sadashiv peth\",411030)\n",
        "print(a)\n",
        "print(b)"
      ],
      "metadata": {
        "colab": {
          "base_uri": "https://localhost:8080/"
        },
        "id": "igwcw6O-RZ5C",
        "outputId": "82e19597-ef18-47ed-eb39-10bf0bce8e98"
      },
      "execution_count": 4,
      "outputs": [
        {
          "output_type": "stream",
          "name": "stdout",
          "text": [
            "('Aditi', 'Shamkant', 'Gatkal', 20, 'Student')\n",
            "('SP College', 'Autonomous', 'Sadashiv peth', 411030)\n"
          ]
        }
      ]
    },
    {
      "cell_type": "code",
      "source": [
        "print(A[0:3])\n",
        "print(B[2:3])\n",
        "print(a[3])\n",
        "print(b[3])\n"
      ],
      "metadata": {
        "colab": {
          "base_uri": "https://localhost:8080/"
        },
        "id": "7i9tpc_QR51W",
        "outputId": "0b2d7c7c-39f2-45e3-b086-0c0988c4bf22"
      },
      "execution_count": 10,
      "outputs": [
        {
          "output_type": "stream",
          "name": "stdout",
          "text": [
            "['Aditi', 'Shamkant', 'Gatkal']\n",
            "['Sadashiv peth']\n",
            "20\n",
            "411030\n"
          ]
        }
      ]
    },
    {
      "cell_type": "code",
      "source": [
        "print(type(A))\n",
        "print(type(B))\n",
        "print(type(a))\n",
        "print(type(b))"
      ],
      "metadata": {
        "colab": {
          "base_uri": "https://localhost:8080/"
        },
        "id": "qwxXyIiXSwzX",
        "outputId": "3c92db4b-8ca8-4144-e769-609a74e02cf8"
      },
      "execution_count": 11,
      "outputs": [
        {
          "output_type": "stream",
          "name": "stdout",
          "text": [
            "<class 'list'>\n",
            "<class 'list'>\n",
            "<class 'tuple'>\n",
            "<class 'tuple'>\n"
          ]
        }
      ]
    },
    {
      "cell_type": "markdown",
      "source": [
        "Copy"
      ],
      "metadata": {
        "id": "sBlxOf6vVEWV"
      }
    },
    {
      "cell_type": "code",
      "source": [
        "print(A)\n",
        "A1=A.copy()\n",
        "print(A1)\n",
        "\n",
        "#Tupples cannot be copied"
      ],
      "metadata": {
        "colab": {
          "base_uri": "https://localhost:8080/"
        },
        "id": "-EpgIp54VF4f",
        "outputId": "d2ee64dd-51b3-415e-bcf1-f2cf9f252de1"
      },
      "execution_count": 14,
      "outputs": [
        {
          "output_type": "stream",
          "name": "stdout",
          "text": [
            "['Aditi', 'Shamkant', 'Gatkal', 20, 'Student']\n",
            "['Aditi', 'Shamkant', 'Gatkal', 20, 'Student']\n"
          ]
        }
      ]
    },
    {
      "cell_type": "markdown",
      "source": [
        "Append"
      ],
      "metadata": {
        "id": "9k48u0ejVRQF"
      }
    },
    {
      "cell_type": "code",
      "source": [
        "print(B)\n",
        "B.append(\"Autonomous\")\n",
        "print(B)\n",
        "\n",
        "#Tupples cannot be modified\n"
      ],
      "metadata": {
        "colab": {
          "base_uri": "https://localhost:8080/"
        },
        "id": "CQijPPrHVS4_",
        "outputId": "06494e80-8335-42ed-f976-c3136e6282f2"
      },
      "execution_count": 13,
      "outputs": [
        {
          "output_type": "stream",
          "name": "stdout",
          "text": [
            "['SP College', 'Autonomous', 'Sadashiv peth', 411030]\n",
            "['SP College', 'Autonomous', 'Sadashiv peth', 411030, 'Autonomous']\n"
          ]
        }
      ]
    },
    {
      "cell_type": "markdown",
      "source": [
        "Count"
      ],
      "metadata": {
        "id": "OTrS4BYSWCuL"
      }
    },
    {
      "cell_type": "code",
      "source": [
        "print(A.count(\"Aditi\"))\n",
        "A.append(\"Aditi\")\n",
        "print(A.count(\"Aditi\"))"
      ],
      "metadata": {
        "colab": {
          "base_uri": "https://localhost:8080/"
        },
        "id": "4tJAPDRBWEJQ",
        "outputId": "36eb6526-5028-4840-947a-fe0cedf47f0d"
      },
      "execution_count": 16,
      "outputs": [
        {
          "output_type": "stream",
          "name": "stdout",
          "text": [
            "1\n",
            "2\n"
          ]
        }
      ]
    },
    {
      "cell_type": "markdown",
      "source": [
        "Delete List"
      ],
      "metadata": {
        "id": "Z4lIhlL0Wpa-"
      }
    },
    {
      "cell_type": "code",
      "source": [
        "print(A1)\n",
        "del(A1)\n",
        "print(A1)\n",
        "\n",
        "#List A1 is deleted therefore it is showing error"
      ],
      "metadata": {
        "colab": {
          "base_uri": "https://localhost:8080/",
          "height": 252
        },
        "id": "DVDfOta4WrTG",
        "outputId": "674f5b2f-6bbf-4ead-f3cf-7e9786cb0c15"
      },
      "execution_count": 17,
      "outputs": [
        {
          "output_type": "stream",
          "name": "stdout",
          "text": [
            "['Aditi', 'Shamkant', 'Gatkal', 20, 'Student']\n"
          ]
        },
        {
          "output_type": "error",
          "ename": "NameError",
          "evalue": "ignored",
          "traceback": [
            "\u001b[0;31m---------------------------------------------------------------------------\u001b[0m",
            "\u001b[0;31mNameError\u001b[0m                                 Traceback (most recent call last)",
            "\u001b[0;32m<ipython-input-17-cf91111af830>\u001b[0m in \u001b[0;36m<module>\u001b[0;34m()\u001b[0m\n\u001b[1;32m      1\u001b[0m \u001b[0mprint\u001b[0m\u001b[0;34m(\u001b[0m\u001b[0mA1\u001b[0m\u001b[0;34m)\u001b[0m\u001b[0;34m\u001b[0m\u001b[0;34m\u001b[0m\u001b[0m\n\u001b[1;32m      2\u001b[0m \u001b[0;32mdel\u001b[0m\u001b[0;34m(\u001b[0m\u001b[0mA1\u001b[0m\u001b[0;34m)\u001b[0m\u001b[0;34m\u001b[0m\u001b[0;34m\u001b[0m\u001b[0m\n\u001b[0;32m----> 3\u001b[0;31m \u001b[0mprint\u001b[0m\u001b[0;34m(\u001b[0m\u001b[0mA1\u001b[0m\u001b[0;34m)\u001b[0m\u001b[0;34m\u001b[0m\u001b[0;34m\u001b[0m\u001b[0m\n\u001b[0m\u001b[1;32m      4\u001b[0m \u001b[0;34m\u001b[0m\u001b[0m\n\u001b[1;32m      5\u001b[0m \u001b[0;31m#List A1 is deleted therefore it is showing error\u001b[0m\u001b[0;34m\u001b[0m\u001b[0;34m\u001b[0m\u001b[0;34m\u001b[0m\u001b[0m\n",
            "\u001b[0;31mNameError\u001b[0m: name 'A1' is not defined"
          ]
        }
      ]
    },
    {
      "cell_type": "markdown",
      "source": [
        "Extend"
      ],
      "metadata": {
        "id": "FBGRbTfbXXFb"
      }
    },
    {
      "cell_type": "code",
      "source": [
        "print(A)\n",
        "print(B)\n",
        "A.extend(B)\n",
        "print(A)"
      ],
      "metadata": {
        "colab": {
          "base_uri": "https://localhost:8080/"
        },
        "id": "zZA999sdXZ1H",
        "outputId": "cacdc57c-210e-4360-a424-bf578bfd8520"
      },
      "execution_count": 18,
      "outputs": [
        {
          "output_type": "stream",
          "name": "stdout",
          "text": [
            "['Aditi', 'Shamkant', 'Gatkal', 20, 'Student', 'Aditi']\n",
            "['SP College', 'Autonomous', 'Sadashiv peth', 411030, 'Autonomous']\n",
            "['Aditi', 'Shamkant', 'Gatkal', 20, 'Student', 'Aditi', 'SP College', 'Autonomous', 'Sadashiv peth', 411030, 'Autonomous']\n"
          ]
        }
      ]
    },
    {
      "cell_type": "markdown",
      "source": [
        "Index"
      ],
      "metadata": {
        "id": "h6KwADFYXwS4"
      }
    },
    {
      "cell_type": "code",
      "source": [
        "print(B.index(\"Sadashiv peth\"))\n",
        "print(A.index(\"Autonomous\"))\n",
        "\n",
        "#If the elements are repeated in the list then index() will provide the index no. of first element"
      ],
      "metadata": {
        "colab": {
          "base_uri": "https://localhost:8080/"
        },
        "id": "X7H4Zod2X-V0",
        "outputId": "c856ea39-c6e5-4e91-e9a1-4dbfa79e05aa"
      },
      "execution_count": 20,
      "outputs": [
        {
          "output_type": "stream",
          "name": "stdout",
          "text": [
            "2\n",
            "7\n"
          ]
        }
      ]
    },
    {
      "cell_type": "markdown",
      "source": [
        "Sort"
      ],
      "metadata": {
        "id": "N8Ed5deRZZN8"
      }
    },
    {
      "cell_type": "code",
      "source": [
        "K=[\"D\",\"A\",\"C\",\"B\"]\n",
        "print(K)\n",
        "K1=[4,2,1,3]\n",
        "print(K1)\n",
        "K.sort()\n",
        "K1.sort()\n",
        "print(K)\n",
        "print(K1)"
      ],
      "metadata": {
        "colab": {
          "base_uri": "https://localhost:8080/"
        },
        "id": "XgqTIWL2Yr0c",
        "outputId": "50dedf86-cebe-4d6a-fa06-47a4253bb81d"
      },
      "execution_count": 21,
      "outputs": [
        {
          "output_type": "stream",
          "name": "stdout",
          "text": [
            "['D', 'A', 'C', 'B']\n",
            "[4, 2, 1, 3]\n",
            "['A', 'B', 'C', 'D']\n",
            "[1, 2, 3, 4]\n"
          ]
        }
      ]
    },
    {
      "cell_type": "markdown",
      "source": [
        "Access"
      ],
      "metadata": {
        "id": "P0lT5h5eZirQ"
      }
    },
    {
      "cell_type": "code",
      "source": [
        "print(K[:2])\n",
        "print(K1[0:])"
      ],
      "metadata": {
        "colab": {
          "base_uri": "https://localhost:8080/"
        },
        "id": "cjoL52VlZj-z",
        "outputId": "c44dd321-0038-4f37-fd1f-45d86076f27b"
      },
      "execution_count": 22,
      "outputs": [
        {
          "output_type": "stream",
          "name": "stdout",
          "text": [
            "['A', 'B']\n",
            "[1, 2, 3, 4]\n"
          ]
        }
      ]
    },
    {
      "cell_type": "markdown",
      "source": [
        "Nested list"
      ],
      "metadata": {
        "id": "8PO1LLlEZpdH"
      }
    },
    {
      "cell_type": "code",
      "source": [
        "ABlist=[\"Aditi\",\"SP COllege\",[20,411030]]\n",
        "print(ABlist)\n",
        "print(ABlist[2])"
      ],
      "metadata": {
        "colab": {
          "base_uri": "https://localhost:8080/"
        },
        "id": "IlYW30qlZrO1",
        "outputId": "2f1dbe1f-8173-4856-b97c-4de781226608"
      },
      "execution_count": 23,
      "outputs": [
        {
          "output_type": "stream",
          "name": "stdout",
          "text": [
            "['Aditi', 'SP COllege', [20, 411030]]\n",
            "[20, 411030]\n"
          ]
        }
      ]
    }
  ]
}