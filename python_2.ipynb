{
  "nbformat": 4,
  "nbformat_minor": 0,
  "metadata": {
    "colab": {
      "name": "python 2",
      "provenance": [],
      "authorship_tag": "ABX9TyPfjyxe2ipeZZsF9QQVelm9",
      "include_colab_link": true
    },
    "kernelspec": {
      "name": "python3",
      "display_name": "Python 3"
    },
    "language_info": {
      "name": "python"
    }
  },
  "cells": [
    {
      "cell_type": "markdown",
      "metadata": {
        "id": "view-in-github",
        "colab_type": "text"
      },
      "source": [
        "<a href=\"https://colab.research.google.com/github/aditi0502/Basic_of_python/blob/main/python_2.ipynb\" target=\"_parent\"><img src=\"https://colab.research.google.com/assets/colab-badge.svg\" alt=\"Open In Colab\"/></a>"
      ]
    },
    {
      "cell_type": "code",
      "source": [
        "# data types in python\n",
        "#text data or string data\n",
        "x,y,z= 5,\"Good day!\",\"global\"\n",
        "print(x)\n",
        "print(type(x))\n",
        "print(y)\n",
        "print(type(y))\n",
        "print(z)\n",
        "print(type(z))\n",
        "\n",
        "#string must be in single or double quote"
      ],
      "metadata": {
        "colab": {
          "base_uri": "https://localhost:8080/"
        },
        "id": "B9Ny7u-5ApKH",
        "outputId": "2392a82d-46e1-424b-aacc-40b337d247f1"
      },
      "execution_count": null,
      "outputs": [
        {
          "output_type": "stream",
          "name": "stdout",
          "text": [
            "5\n",
            "<class 'int'>\n",
            "Good day!\n",
            "<class 'str'>\n",
            "global\n",
            "<class 'str'>\n"
          ]
        }
      ]
    },
    {
      "cell_type": "markdown",
      "source": [
        "There are 3 numeric types in python:"
      ],
      "metadata": {
        "id": "9Hv_0J8xBi9m"
      }
    },
    {
      "cell_type": "markdown",
      "source": [
        "1.int 2.float 3.complex"
      ],
      "metadata": {
        "id": "HFpHhwWrB7uq"
      }
    },
    {
      "cell_type": "code",
      "source": [
        "a = 2  #int\n",
        "b = 2.5  #float\n",
        "c = 1j  #complex\n",
        "#check type"
      ],
      "metadata": {
        "id": "Z4NhkdZyCCZe"
      },
      "execution_count": null,
      "outputs": []
    },
    {
      "cell_type": "code",
      "source": [
        "print(type(a))\n",
        "print(type(b))\n",
        "print(type(c))"
      ],
      "metadata": {
        "colab": {
          "base_uri": "https://localhost:8080/"
        },
        "id": "XZgwGuaBCdHK",
        "outputId": "0ee46d14-fcbc-4da0-995c-519a23042514"
      },
      "execution_count": null,
      "outputs": [
        {
          "output_type": "stream",
          "name": "stdout",
          "text": [
            "<class 'int'>\n",
            "<class 'float'>\n",
            "<class 'complex'>\n"
          ]
        }
      ]
    },
    {
      "cell_type": "code",
      "source": [
        "#convert from int to float\n",
        "A=float(a)\n",
        "\n",
        "#convert float to int\n",
        "B=int(b)\n",
        "\n",
        "#convert int to complex\n",
        "C=complex(c)\n",
        "\n",
        "print(A)\n",
        "print(type(A))\n",
        "\n",
        "print(B)\n",
        "print(type(B))\n",
        "\n",
        "print(C)\n",
        "print(type(C))"
      ],
      "metadata": {
        "colab": {
          "base_uri": "https://localhost:8080/"
        },
        "id": "ZRhlOIwFC07R",
        "outputId": "59d58e53-40cd-498c-be75-df8a592388e1"
      },
      "execution_count": null,
      "outputs": [
        {
          "output_type": "stream",
          "name": "stdout",
          "text": [
            "2.0\n",
            "<class 'float'>\n",
            "2\n",
            "<class 'int'>\n",
            "1j\n",
            "<class 'complex'>\n"
          ]
        }
      ]
    },
    {
      "cell_type": "code",
      "source": [
        "#Assign string to variable\n",
        "a= 'Statistics'\n",
        "print(a)\n",
        "\n",
        "#multiple strings\n",
        "b=\"Science\"\n",
        "print(b)\n",
        "\n",
        "#three single quotes\n",
        "c='I love Statistics'\n",
        "print(c)"
      ],
      "metadata": {
        "colab": {
          "base_uri": "https://localhost:8080/"
        },
        "id": "1bgaa4k2Dr5u",
        "outputId": "f3585c4c-a61e-4b1f-b7e1-7cb6dca54f1e"
      },
      "execution_count": null,
      "outputs": [
        {
          "output_type": "stream",
          "name": "stdout",
          "text": [
            "Statistics\n",
            "Science\n",
            "I love Statistics\n"
          ]
        }
      ]
    },
    {
      "cell_type": "code",
      "source": [
        "x=\"Hi how are you?   from where their.\"\n",
        "print(x.strip()) #Remove whitespace from beginning to end\n",
        "print(x.lower()) #returns the string in lower case\n",
        "print(x.upper()) #returns the string in upper case\n",
        "print(x.replace(\"o\",\"J\"))  #replace string with another string\n",
        "print(x.split(\"o\")) #split string into substrins\n"
      ],
      "metadata": {
        "colab": {
          "base_uri": "https://localhost:8080/"
        },
        "id": "PXk-TPM1Elhd",
        "outputId": "a45a2485-9cdb-410f-b29f-906696a37917"
      },
      "execution_count": null,
      "outputs": [
        {
          "output_type": "stream",
          "name": "stdout",
          "text": [
            "Hi how are you?   from where their.\n",
            "hi how are you?   from where their.\n",
            "HI HOW ARE YOU?   FROM WHERE THEIR.\n",
            "Hi hJw are yJu?   frJm where their.\n",
            "['Hi h', 'w are y', 'u?   fr', 'm where their.']\n"
          ]
        }
      ]
    }
  ]
}